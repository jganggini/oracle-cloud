{
 "cells": [
  {
   "cell_type": "markdown",
   "id": "488247e4",
   "metadata": {},
   "source": [
    "### Read data from SQL Server\n",
    "\n",
    "<details>\n",
    "<summary><font size=\"2\">Step 1) Install the Microsoft ODBC 17 driver for SQL Server (Linux) in Terminal</font></summary>\n",
    "\n",
    "<ul>\n",
    "    <li>\n",
    "        <a href=\"https://learn.microsoft.com/en-us/sql/connect/odbc/linux-mac/installing-the-microsoft-odbc-driver-for-sql-server?view=sql-server-2017&tabs=redhat18-install%2Credhat17-install%2Cdebian8-install%2Credhat7-13-install%2Crhel7-offline#17\">RHEL and Oracle Linux</a>\n",
    "    </li>\n",
    "</ul>\n",
    "    \n",
    "```console\n",
    "#RHEL 9\n",
    "curl https://packages.microsoft.com/config/rhel/9/prod.repo | sudo tee /etc/yum.repos.d/mssql-release.repo\n",
    "\n",
    "sudo yum remove unixODBC-utf16 unixODBC-utf16-devel #to avoid conflicts\n",
    "sudo ACCEPT_EULA=Y yum install -y msodbcsql17\n",
    "# optional: for bcp and sqlcmd\n",
    "sudo ACCEPT_EULA=Y yum install -y mssql-tools\n",
    "echo 'export PATH=\"$PATH:/opt/mssql-tools/bin\"' >> ~/.bashrc\n",
    "source ~/.bashrc\n",
    "# optional: for unixODBC development headers\n",
    "sudo yum install -y unixODBC-devel\n",
    "```\n",
    "</details>\n",
    "<details>\n",
    "<summary><font size=\"2\">Step 2) Install pypyodbc</font></summary>\n",
    "<ul>\n",
    "    <li>\n",
    "        <a href=\"https://learn.microsoft.com/en-us/sql/connect/python/pyodbc/step-3-proof-of-concept-connecting-to-sql-using-pyodbc?view=sql-server-ver16\">Connection String</a>\n",
    "    </li>\n",
    "</ul>\n",
    "</details>\n",
    "\n",
    "<details>\n",
    "<summary><font size=\"2\">Step 3) Connect and query data</font></summary>\n",
    "<ul>\n",
    "    <li>\n",
    "        <a href=\"https://learn.microsoft.com/en-us/sql/connect/python/pyodbc/step-3-proof-of-concept-connecting-to-sql-using-pyodbc?view=sql-server-ver16\">Connection String</a>\n",
    "    </li>\n",
    "</ul>\n",
    "</details>\n",
    "\n",
    "<details>\n",
    "<summary><font size=\"2\">Install Pre-Requirements</font></summary>\n",
    "\n",
    "```Install Libraries\n",
    "!pip install pypyodbc\n",
    "```\n",
    "</details>"
   ]
  },
  {
   "cell_type": "code",
   "execution_count": 29,
   "id": "70ffbebe",
   "metadata": {},
   "outputs": [],
   "source": [
    "import pypyodbc as odbc\n",
    "import pandas as pd"
   ]
  },
  {
   "cell_type": "code",
   "execution_count": 20,
   "id": "92b65383",
   "metadata": {},
   "outputs": [],
   "source": [
    "DRIVER_NAME = 'SQL SERVER'\n",
    "SERVER_NAME = '10.100.***.*'\n",
    "DATABASE_NAME = 'BD'\n",
    "DATABASE_UID = 'admin'\n",
    "DATABASE_PWD ='***'\n",
    "\n",
    "connectionString = f'DRIVER={{ODBC Driver 17 for SQL Server}};SERVER={SERVER_NAME};DATABASE={DATABASE_NAME};UID={DATABASE_UID};PWD={DATABASE_PWD};Trust_Connection=yes'"
   ]
  },
  {
   "cell_type": "code",
   "execution_count": 21,
   "id": "12a19925",
   "metadata": {},
   "outputs": [
    {
     "name": "stdout",
     "output_type": "stream",
     "text": [
      "<pypyodbc.Connection object at 0x7fdcd60f5a60>\n"
     ]
    }
   ],
   "source": [
    "conn = odbc.connect(connectionString)\n",
    "print(conn)"
   ]
  },
  {
   "cell_type": "code",
   "execution_count": 32,
   "id": "3b1b6737",
   "metadata": {},
   "outputs": [],
   "source": [
    "cursor  = conn.cursor()\n",
    "cursor .execute(\"SELECT TOP 3 * FROM USER\")\n",
    "result = cursor .fetchall()"
   ]
  },
  {
   "cell_type": "code",
   "execution_count": null,
   "id": "06d010a5",
   "metadata": {},
   "outputs": [],
   "source": [
    "df = pd.DataFrame(result)\n",
    "df"
   ]
  }
 ],
 "metadata": {
  "kernelspec": {
   "display_name": "Python 3 (ipykernel)",
   "language": "python",
   "name": "python3"
  },
  "language_info": {
   "codemirror_mode": {
    "name": "ipython",
    "version": 3
   },
   "file_extension": ".py",
   "mimetype": "text/x-python",
   "name": "python",
   "nbconvert_exporter": "python",
   "pygments_lexer": "ipython3",
   "version": "3.8.17"
  }
 },
 "nbformat": 4,
 "nbformat_minor": 5
}
