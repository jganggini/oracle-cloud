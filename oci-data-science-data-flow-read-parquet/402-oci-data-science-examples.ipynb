{
 "cells": [
  {
   "cell_type": "code",
   "execution_count": 1,
   "id": "a0d1eba0",
   "metadata": {},
   "outputs": [],
   "source": [
    "import pandas as pd\n",
    "import numpy as np\n",
    "import pickle\n",
    "\n",
    "from ads.dataset.factory import DatasetFactory\n",
    "from ads.dataset.dataset_browser import DatasetBrowser\n",
    "from time import process_time\n",
    "\n",
    "import ads\n",
    "import oci\n",
    "import cx_Oracle\n",
    "import os"
   ]
  },
  {
   "cell_type": "markdown",
   "id": "8e872315",
   "metadata": {},
   "source": [
    "#### Parametros"
   ]
  },
  {
   "cell_type": "code",
   "execution_count": 2,
   "id": "41f6be89",
   "metadata": {},
   "outputs": [],
   "source": [
    "# [Parameter:oci_adw] Autonomous Database\n",
    "par_oci_adw_config = {\n",
    "    \"user_name\"       : \"unsername\",\n",
    "    \"password\"        : \"*********\",\n",
    "    \"service_name\"    : \"dbadwprodfarma_low\",\n",
    "    \"wallet_location\" : \"/home/datascience/oci/adw/instantclient_19_5/network/admin/Wallet.zip\",\n",
    "}"
   ]
  },
  {
   "cell_type": "code",
   "execution_count": 3,
   "id": "7e92a6ee",
   "metadata": {},
   "outputs": [],
   "source": [
    "# [Parameter:oci_obj] OCI Object Storage\n",
    "par_oci_obj_bucket_name            = 'Bucket_DATA_SCIENCE'\n",
    "# The profile parameter (ociProfileName) 'LOCAL' or 'DATAFLOW' in OCI\n",
    "par_oci_obj_ociConfigFilePath      = '~/oci/config'\n",
    "par_oci_obj_ociProfileName         = 'DEFAULT'\n",
    "par_oci_obj_config                 = oci.config.from_file(par_oci_obj_ociConfigFilePath, par_oci_obj_ociProfileName)\n",
    "par_oci_obj_object_storage_client  = oci.object_storage.ObjectStorageClient(par_oci_obj_config)\n",
    "par_oci_obj_namespace_name         = par_oci_obj_object_storage_client.get_namespace().data"
   ]
  },
  {
   "cell_type": "markdown",
   "id": "a0de3d48",
   "metadata": {},
   "source": [
    "#### Funciones"
   ]
  },
  {
   "cell_type": "code",
   "execution_count": 4,
   "id": "cc31906a",
   "metadata": {},
   "outputs": [],
   "source": [
    "# fn_load_data_from_object_storage_to_pandas\n",
    "# Descripción : Cargar datos de OCI Object Storage y convierte de Dataset a Dataframe (Pandas)\n",
    "# Referencia  : https://docs.oracle.com/en-us/iaas/tools/ads-sdk/latest/user_guide/loading_data/connect.html?highlight=cket_name%20namespace%20file_name\n",
    "def fn_load_data_from_object_storage_to_pandas(object_name):\n",
    "    try:\n",
    "        ts = process_time()\n",
    "        ads.set_auth(auth='resource_principal')\n",
    "        storage_options = {\n",
    "           \"config\"  : par_oci_obj_ociConfigFilePath,\n",
    "           \"profile\" : par_oci_obj_ociProfileName\n",
    "        }\n",
    "        ds = ads.dataset.factory.DatasetFactory.open(f\"oci://{par_oci_obj_bucket_name}@{par_oci_obj_namespace_name}/{object_name}\", storage_options=storage_options)\n",
    "        df = ds.to_pandas_dataframe()\n",
    "\n",
    "        te = process_time()\n",
    "        print('# Loaded data to pandas (' + object_name + ')...[seg: '+ str(te-ts) +']')\n",
    "        \n",
    "        return df\n",
    "    \n",
    "    except Exception as e:\n",
    "        print(e)"
   ]
  },
  {
   "cell_type": "code",
   "execution_count": 10,
   "id": "44ce8a65",
   "metadata": {},
   "outputs": [
    {
     "data": {
      "application/vnd.jupyter.widget-view+json": {
       "model_id": "a8d7daab1b2141da9407fd15cbd87aac",
       "version_major": 2,
       "version_minor": 0
      },
      "text/plain": [
       "loop1:   0%|          | 0/4 [00:00<?, ?it/s]"
      ]
     },
     "metadata": {},
     "output_type": "display_data"
    },
    {
     "name": "stdout",
     "output_type": "stream",
     "text": [
      "# Loaded data to pandas (Datasets/SucGanadora.xlsx)...[seg: 0.23423578899999953]\n"
     ]
    },
    {
     "data": {
      "text/html": [
       "<div>\n",
       "<style scoped>\n",
       "    .dataframe tbody tr th:only-of-type {\n",
       "        vertical-align: middle;\n",
       "    }\n",
       "\n",
       "    .dataframe tbody tr th {\n",
       "        vertical-align: top;\n",
       "    }\n",
       "\n",
       "    .dataframe thead th {\n",
       "        text-align: right;\n",
       "    }\n",
       "</style>\n",
       "<table border=\"1\" class=\"dataframe\">\n",
       "  <thead>\n",
       "    <tr style=\"text-align: right;\">\n",
       "      <th></th>\n",
       "      <th>DNI</th>\n",
       "    </tr>\n",
       "  </thead>\n",
       "  <tbody>\n",
       "    <tr>\n",
       "      <th>0</th>\n",
       "      <td>21851757</td>\n",
       "    </tr>\n",
       "    <tr>\n",
       "      <th>1</th>\n",
       "      <td>30041328</td>\n",
       "    </tr>\n",
       "    <tr>\n",
       "      <th>2</th>\n",
       "      <td>32897326</td>\n",
       "    </tr>\n",
       "    <tr>\n",
       "      <th>3</th>\n",
       "      <td>31380842</td>\n",
       "    </tr>\n",
       "    <tr>\n",
       "      <th>4</th>\n",
       "      <td>25121604</td>\n",
       "    </tr>\n",
       "    <tr>\n",
       "      <th>...</th>\n",
       "      <td>...</td>\n",
       "    </tr>\n",
       "    <tr>\n",
       "      <th>258</th>\n",
       "      <td>28211058</td>\n",
       "    </tr>\n",
       "    <tr>\n",
       "      <th>259</th>\n",
       "      <td>29042554</td>\n",
       "    </tr>\n",
       "    <tr>\n",
       "      <th>260</th>\n",
       "      <td>43087693</td>\n",
       "    </tr>\n",
       "    <tr>\n",
       "      <th>261</th>\n",
       "      <td>44158264</td>\n",
       "    </tr>\n",
       "    <tr>\n",
       "      <th>262</th>\n",
       "      <td>95885764</td>\n",
       "    </tr>\n",
       "  </tbody>\n",
       "</table>\n",
       "<p>263 rows × 1 columns</p>\n",
       "</div>"
      ],
      "text/plain": [
       "          DNI\n",
       "0    21851757\n",
       "1    30041328\n",
       "2    32897326\n",
       "3    31380842\n",
       "4    25121604\n",
       "..        ...\n",
       "258  28211058\n",
       "259  29042554\n",
       "260  43087693\n",
       "261  44158264\n",
       "262  95885764\n",
       "\n",
       "[263 rows x 1 columns]"
      ]
     },
     "execution_count": 10,
     "metadata": {},
     "output_type": "execute_result"
    }
   ],
   "source": [
    "# [Exanple] fn_load_data_from_object_storage_to_pandas\n",
    "df = fn_load_data_from_object_storage_to_pandas('Datasets/SucGanadora.xlsx')\n",
    "df"
   ]
  },
  {
   "cell_type": "code",
   "execution_count": 5,
   "id": "6e66a878",
   "metadata": {},
   "outputs": [],
   "source": [
    "# fn_read_sql_from_adw\n",
    "# Descripción : Lee datos de Autonomous Database y retorna un Dataframe\n",
    "# Referencia  : https://docs.oracle.com/en-us/iaas/tools/ads-sdk/latest/ads.dataset.html?highlight=read_sql#ads.dataset.factory.CustomFormatReaders.read_sql\n",
    "def fn_read_sql_from_adw(sql):\n",
    "    try:\n",
    "        ts = process_time()\n",
    "        df = pd.DataFrame.ads.read_sql(\n",
    "            \"SELECT * FROM DUAL\",\n",
    "            connection_parameters=par_oci_adw_config,\n",
    "        )        \n",
    "\n",
    "        te = process_time()\n",
    "        print('# Read data fron adw (' + sql + ')...[seg: '+ str(te-ts) +']')\n",
    "        print('# Number of rows (' + str(len(df)) + ')')\n",
    "        \n",
    "        return df\n",
    "    \n",
    "    except Exception as e:\n",
    "        print(e)"
   ]
  },
  {
   "cell_type": "code",
   "execution_count": 11,
   "id": "a7e4d633",
   "metadata": {},
   "outputs": [
    {
     "name": "stdout",
     "output_type": "stream",
     "text": [
      "# Read data fron adw (SELECT * FROM DUAL)...[seg: 0.07938560299999864]\n",
      "# Number of rows (1)\n"
     ]
    },
    {
     "data": {
      "text/html": [
       "<div>\n",
       "<style scoped>\n",
       "    .dataframe tbody tr th:only-of-type {\n",
       "        vertical-align: middle;\n",
       "    }\n",
       "\n",
       "    .dataframe tbody tr th {\n",
       "        vertical-align: top;\n",
       "    }\n",
       "\n",
       "    .dataframe thead th {\n",
       "        text-align: right;\n",
       "    }\n",
       "</style>\n",
       "<table border=\"1\" class=\"dataframe\">\n",
       "  <thead>\n",
       "    <tr style=\"text-align: right;\">\n",
       "      <th></th>\n",
       "      <th>DUMMY</th>\n",
       "    </tr>\n",
       "  </thead>\n",
       "  <tbody>\n",
       "    <tr>\n",
       "      <th>0</th>\n",
       "      <td>X</td>\n",
       "    </tr>\n",
       "  </tbody>\n",
       "</table>\n",
       "</div>"
      ],
      "text/plain": [
       "  DUMMY\n",
       "0     X"
      ]
     },
     "execution_count": 11,
     "metadata": {},
     "output_type": "execute_result"
    }
   ],
   "source": [
    "# [Exanple] fn_read_sql_from_adw\n",
    "df = fn_read_sql_from_adw('SELECT * FROM DUAL')\n",
    "df"
   ]
  },
  {
   "cell_type": "code",
   "execution_count": 12,
   "id": "77291057",
   "metadata": {},
   "outputs": [],
   "source": [
    "# fn_load_data_from_dataframe_to_object_storage\n",
    "# Descripción : Carga datos de un Dataframe a OCI Object Storage for Datalake\n",
    "# Referencia  : https://docs.oracle.com/en-us/iaas/tools/ads-sdk/latest/ads.dataset.html?highlight=to_csv#ads.dataset.dataset.ADSDataset.to_csv\n",
    "def fn_load_data_from_dataframe_to_object_storage(object_name,df):\n",
    "    try:\n",
    "        ts = process_time()\n",
    "        ads.set_auth(auth='resource_principal')\n",
    "        storage_options = {\n",
    "           \"config\"  : par_oci_obj_ociConfigFilePath,\n",
    "           \"profile\" : par_oci_obj_ociProfileName\n",
    "        }\n",
    "        df.to_csv(f\"oci://{par_oci_obj_bucket_name}@{par_oci_obj_namespace_name}/{object_name}\", storage_options=storage_options,index=False)\n",
    "\n",
    "        te = process_time()\n",
    "        print('# Load data from dataframe to object storage (' + object_name + ')...[seg: '+ str(te-ts) +']')        \n",
    "    \n",
    "    except Exception as e:\n",
    "        print(e)"
   ]
  },
  {
   "cell_type": "code",
   "execution_count": 13,
   "id": "b40e038a",
   "metadata": {},
   "outputs": [
    {
     "name": "stdout",
     "output_type": "stream",
     "text": [
      "# Load data from dataframe to object storage (Datasets/dts_demo.csv)...[seg: 0.01332073200000039]\n"
     ]
    },
    {
     "data": {
      "text/html": [
       "<div>\n",
       "<style scoped>\n",
       "    .dataframe tbody tr th:only-of-type {\n",
       "        vertical-align: middle;\n",
       "    }\n",
       "\n",
       "    .dataframe tbody tr th {\n",
       "        vertical-align: top;\n",
       "    }\n",
       "\n",
       "    .dataframe thead th {\n",
       "        text-align: right;\n",
       "    }\n",
       "</style>\n",
       "<table border=\"1\" class=\"dataframe\">\n",
       "  <thead>\n",
       "    <tr style=\"text-align: right;\">\n",
       "      <th></th>\n",
       "      <th>DUMMY</th>\n",
       "    </tr>\n",
       "  </thead>\n",
       "  <tbody>\n",
       "    <tr>\n",
       "      <th>0</th>\n",
       "      <td>X</td>\n",
       "    </tr>\n",
       "  </tbody>\n",
       "</table>\n",
       "</div>"
      ],
      "text/plain": [
       "  DUMMY\n",
       "0     X"
      ]
     },
     "execution_count": 13,
     "metadata": {},
     "output_type": "execute_result"
    }
   ],
   "source": [
    "# [Exanple] fn_load_data_from_dataframe_to_object_storage\n",
    "fn_load_data_from_dataframe_to_object_storage('Datasets/obj_example_fn_load_data_from_dataframe_to_object_storage.csv',df)\n",
    "df"
   ]
  },
  {
   "cell_type": "code",
   "execution_count": 15,
   "id": "8588ff06",
   "metadata": {},
   "outputs": [],
   "source": [
    "# fn_upload_object_to_object_storage\n",
    "# Descripción : Subir objecto a OCI Object Storage y convertir de Dataset a Bytes (CSV)\n",
    "# Referencia  : https://github.com/jganggini/oci-data-flow/blob/main/upload-unstructured-data-to-autonomous-database/src/oci_object_storage.py\n",
    "def fn_upload_object_to_object_storage(bucket_name, object_name, obj_bytes):\n",
    "    try:\n",
    "        ts = process_time()\n",
    "        par_oci_obj_object_storage_client.put_object(namespace_name=par_oci_obj_namespace_name,bucket_name=bucket_name, object_name=object_name, put_object_body=obj_bytes)\n",
    "        te = process_time()\n",
    "        \n",
    "        print('# Upload object (' + object_name + ')...[seg: '+ str(te-ts) +']')\n",
    "\n",
    "    except Exception as e:\n",
    "        print(e)"
   ]
  },
  {
   "cell_type": "code",
   "execution_count": 17,
   "id": "173991bd",
   "metadata": {},
   "outputs": [
    {
     "name": "stdout",
     "output_type": "stream",
     "text": [
      "# Upload object (Datasets/obj_fn_upload_object_to_object_storage.csv)...[seg: 0.026141036000000284]\n"
     ]
    }
   ],
   "source": [
    "# [Exanple] fn_upload_object_to_object_storage\n",
    "obj_bytes = bytes(df.to_csv(line_terminator='\\r\\n', index=False), encoding='utf-8')\n",
    "fn_upload_object_to_object_storage(par_oci_obj_bucket_name, 'Datasets/obj_fn_upload_object_to_object_storage.csv', obj_bytes)"
   ]
  },
  {
   "cell_type": "code",
   "execution_count": 19,
   "id": "918e1d4a",
   "metadata": {},
   "outputs": [],
   "source": [
    "# fn_download_object_to_object_storage\n",
    "# Descripción : Descarga objeto de OCI Object Storage (Bytes)\n",
    "# Referencia  : https://github.com/jganggini/oci-data-flow/blob/main/upload-unstructured-data-to-autonomous-database/src/oci_object_storage.py\n",
    "def fn_download_object_to_object_storage(bucket_name, object_name):\n",
    "    try:\n",
    "        ts = process_time()\n",
    "        get_object_response = par_oci_obj_object_storage_client.get_object(namespace_name=par_oci_obj_namespace_name,bucket_name=bucket_name, object_name=object_name)\n",
    "        te = process_time()\n",
    "        print('# Download object (' + object_name + ')...[seg: '+ str(te-ts) +']')\n",
    "        \n",
    "        return get_object_response\n",
    "\n",
    "    except Exception as e:\n",
    "        print('  Download object (' + object_name + ') not exists...[Warning]')\n",
    "\n",
    "        return e"
   ]
  },
  {
   "cell_type": "code",
   "execution_count": 22,
   "id": "26250b75",
   "metadata": {},
   "outputs": [
    {
     "name": "stdout",
     "output_type": "stream",
     "text": [
      "# Download object (Datasets/obj_fn_upload_object_to_object_storage.csv)...[seg: 0.0286947780000002]\n",
      "# Decode object...[seg: 0.0003030650000006574]\n",
      "# Filter object...[seg: 0.00019912600000004943]\n"
     ]
    },
    {
     "data": {
      "text/html": [
       "<div>\n",
       "<style scoped>\n",
       "    .dataframe tbody tr th:only-of-type {\n",
       "        vertical-align: middle;\n",
       "    }\n",
       "\n",
       "    .dataframe tbody tr th {\n",
       "        vertical-align: top;\n",
       "    }\n",
       "\n",
       "    .dataframe thead th {\n",
       "        text-align: right;\n",
       "    }\n",
       "</style>\n",
       "<table border=\"1\" class=\"dataframe\">\n",
       "  <thead>\n",
       "    <tr style=\"text-align: right;\">\n",
       "      <th></th>\n",
       "      <th>0</th>\n",
       "    </tr>\n",
       "  </thead>\n",
       "  <tbody>\n",
       "    <tr>\n",
       "      <th>0</th>\n",
       "      <td>DUMMY</td>\n",
       "    </tr>\n",
       "  </tbody>\n",
       "</table>\n",
       "</div>"
      ],
      "text/plain": [
       "       0\n",
       "0  DUMMY"
      ]
     },
     "execution_count": 22,
     "metadata": {},
     "output_type": "execute_result"
    }
   ],
   "source": [
    "# [Exanple] fn_download_object_to_object_storage\n",
    "obj_response = fn_download_object_to_object_storage(par_oci_obj_bucket_name, 'Datasets/obj_fn_upload_object_to_object_storage.csv')\n",
    "\n",
    "# Decode Object\n",
    "ts = process_time()\n",
    "obj_bytes = obj_response.data.content\n",
    "obj_str = obj_bytes.decode('latin-1')\n",
    "te = process_time()\n",
    "print('# Decode object...[seg: '+ str(te-ts) +']')\n",
    "\n",
    "# Filter Object\n",
    "ts = process_time()\n",
    "lis_old = obj_str.split(\"\\r\\n\")\n",
    "lis_new = list(filter(lambda item : len(item)>1 , lis_old))\n",
    "te = process_time()\n",
    "print('# Filter object...[seg: '+ str(te-ts) +']')\n",
    "\n",
    "# Dataframe\n",
    "df = pd.DataFrame(lis_new)\n",
    "df"
   ]
  },
  {
   "cell_type": "code",
   "execution_count": 23,
   "id": "f0893416",
   "metadata": {},
   "outputs": [
    {
     "name": "stdout",
     "output_type": "stream",
     "text": [
      "# Split column...[seg: 0.02872312500000085]\n"
     ]
    },
    {
     "data": {
      "text/html": [
       "<div>\n",
       "<style scoped>\n",
       "    .dataframe tbody tr th:only-of-type {\n",
       "        vertical-align: middle;\n",
       "    }\n",
       "\n",
       "    .dataframe tbody tr th {\n",
       "        vertical-align: top;\n",
       "    }\n",
       "\n",
       "    .dataframe thead th {\n",
       "        text-align: right;\n",
       "    }\n",
       "</style>\n",
       "<table border=\"1\" class=\"dataframe\">\n",
       "  <thead>\n",
       "    <tr style=\"text-align: right;\">\n",
       "      <th></th>\n",
       "      <th>0</th>\n",
       "    </tr>\n",
       "  </thead>\n",
       "  <tbody>\n",
       "    <tr>\n",
       "      <th>0</th>\n",
       "      <td>DUMMY</td>\n",
       "    </tr>\n",
       "  </tbody>\n",
       "</table>\n",
       "</div>"
      ],
      "text/plain": [
       "       0\n",
       "0  DUMMY"
      ]
     },
     "execution_count": 23,
     "metadata": {},
     "output_type": "execute_result"
    }
   ],
   "source": [
    "# [Exanple] Dataframe Split column\n",
    "df = df[0].str.split('|',expand=True)\n",
    "te = process_time()\n",
    "print('# Split column...[seg: '+ str(te-ts) +']')\n",
    "df"
   ]
  },
  {
   "cell_type": "code",
   "execution_count": 25,
   "id": "c7cacb2b",
   "metadata": {},
   "outputs": [
    {
     "name": "stdout",
     "output_type": "stream",
     "text": [
      "  Download object (Datasets/model.sav) not exists...[Warning]\n"
     ]
    },
    {
     "name": "stderr",
     "output_type": "stream",
     "text": [
      "AttributeError: 'ServiceError' object has no attribute 'data'"
     ]
    }
   ],
   "source": [
    "# [Exanple] Pickle\n",
    "obj_response = fn_download_object_to_object_storage(par_oci_obj_bucket_name, 'Datasets/model.sav')\n",
    "\n",
    "# Decode Object\n",
    "ts = process_time()\n",
    "obj_bytes = obj_response.data.content\n",
    "\n",
    "# Pickle\n",
    "import pickle\n",
    "\n",
    "mod_pickle = pickle.loads(obj_bytes)\n",
    "mod_pickle\n",
    "te = process_time()\n",
    "print('# Read pickle object...[seg: '+ str(te-ts) +']')"
   ]
  },
  {
   "cell_type": "code",
   "execution_count": null,
   "id": "b55ab48f",
   "metadata": {},
   "outputs": [],
   "source": []
  }
 ],
 "metadata": {
  "kernelspec": {
   "display_name": "Python [conda env:generalml_p37_cpu_v1]",
   "language": "python",
   "name": "conda-env-generalml_p37_cpu_v1-py"
  },
  "language_info": {
   "codemirror_mode": {
    "name": "ipython",
    "version": 3
   },
   "file_extension": ".py",
   "mimetype": "text/x-python",
   "name": "python",
   "nbconvert_exporter": "python",
   "pygments_lexer": "ipython3",
   "version": "3.7.12"
  }
 },
 "nbformat": 4,
 "nbformat_minor": 5
}
